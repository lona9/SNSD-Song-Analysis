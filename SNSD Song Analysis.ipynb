{
 "cells": [
  {
   "cell_type": "markdown",
   "metadata": {},
   "source": [
    "# SNSD Song Analysis\n",
    "\n",
    "## Objective\n",
    "Analyse song data of korean girl group SNSD from 2007 to 2014 (OT9 period + OT8 song versions of the same period), and find patterns in screentime and lyric distribution in songs and their respective music videos (if any).\n",
    "\n",
    "## How to get it organized\n",
    "\n",
    "### Screentime dataframe\n",
    "The screentime dataframe will be manually gathered from video files data. Each video will have all of its frame extracted and counted for member presences, and then converted to time using the FPS of each video (in process). Final data will contain summaries for solo, centre, side and insignificant times in story and dance categories for each member.\n",
    "\n",
    "### Lyrics dataframe\n",
    "The lyrics dataframe will be obtained using a full lyrics index with color coding for each member. Files will be obtained programatically from colorcodedlyrics.com and then cleaned to get each line with its corresponding singing member. Final data will contain summaries for total time, number of individual parts, number of words for each member."
   ]
  },
  {
   "cell_type": "markdown",
   "metadata": {},
   "source": [
    "### Getting the lyrics dataframe"
   ]
  },
  {
   "cell_type": "code",
   "execution_count": null,
   "metadata": {},
   "outputs": [],
   "source": []
  }
 ],
 "metadata": {
  "kernelspec": {
   "display_name": "Python 3",
   "language": "python",
   "name": "python3"
  },
  "language_info": {
   "codemirror_mode": {
    "name": "ipython",
    "version": 3
   },
   "file_extension": ".py",
   "mimetype": "text/x-python",
   "name": "python",
   "nbconvert_exporter": "python",
   "pygments_lexer": "ipython3",
   "version": "3.8.5"
  }
 },
 "nbformat": 4,
 "nbformat_minor": 4
}
