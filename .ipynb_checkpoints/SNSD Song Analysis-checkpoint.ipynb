{
 "cells": [
  {
   "cell_type": "markdown",
   "metadata": {},
   "source": [
    "# SNSD Song Analysis\n",
    "\n",
    "## Objective\n",
    "Analyse song data of korean girl group SNSD from 2007 to 2014 (OT9 period + OT8 song versions of the same period), and find patterns in screentime and lyric distribution in songs and their respective music videos (if any).\n",
    "\n",
    "## How to get it organized\n",
    "\n",
    "### Screentime dataframe\n",
    "The screentime dataframe will be manually gathered from video files data. Each video will have all of its frame extracted and counted for member presences, and then converted to time using the FPS of each video (in process). Final data will contain summaries for solo, centre, side and insignificant times in story and dance categories for each member.\n",
    "\n",
    "### Lyrics dataframe\n",
    "The lyrics dataframe will be obtained using a full lyrics index with color coding for each member. Files will be obtained programatically from colorcodedlyrics.com and then cleaned to get each line with its corresponding singing member. Final data will contain summaries for total time, number of individual parts, number of words for each member."
   ]
  },
  {
   "cell_type": "markdown",
   "metadata": {},
   "source": [
    "## Building the lyrics dataframe"
   ]
  },
  {
   "cell_type": "code",
   "execution_count": 45,
   "metadata": {},
   "outputs": [],
   "source": [
    "import requests\n",
    "import os\n",
    "from bs4 import BeautifulSoup"
   ]
  },
  {
   "cell_type": "markdown",
   "metadata": {},
   "source": [
    "### Get links for all song lyrics"
   ]
  },
  {
   "cell_type": "code",
   "execution_count": 238,
   "metadata": {},
   "outputs": [],
   "source": [
    "# making the soup with the lyrics index\n",
    "\n",
    "url = 'https://colorcodedlyrics.com/2012/02/snsd_lyrics_index'\n",
    "response = requests.get(url)\n",
    "\n",
    "name = url.split('/')[-1] + '.txt'\n",
    "with open(name, mode = 'wb') as file:\n",
    "    file.write(response.content)"
   ]
  },
  {
   "cell_type": "code",
   "execution_count": 239,
   "metadata": {},
   "outputs": [],
   "source": [
    "# getting the links for all lyric pages\n",
    "\n",
    "with open(name, encoding='utf8') as file:\n",
    "    soup = BeautifulSoup(file, features='html5lib')\n",
    "    \n",
    "    lyrics_index = soup.find('table', attrs='indexlyrics')\n",
    "    \n",
    "    links = []\n",
    "    for link in lyrics_index.find_all('a', href=True):\n",
    "        links.append(link['href'])"
   ]
  },
  {
   "cell_type": "markdown",
   "metadata": {},
   "source": [
    "### Cleaning the list"
   ]
  },
  {
   "cell_type": "code",
   "execution_count": 240,
   "metadata": {},
   "outputs": [],
   "source": [
    "# remove all links after The Boys, but keep HaHaHa, Visual Dreams and Chocolate Love\n",
    "\n",
    "to_keep = ['https://colorcodedlyrics.com/2013/02/girls-generation-sonyeosidae-hahaha-samsung-cf', \n",
    "           'https://colorcodedlyrics.com/2011/02/08/snsd-visual-dream-cc-lyrics', \n",
    "           'https://colorcodedlyrics.com/2010/04/28/snsd-chocolate-love-color-coded-lyrics/']\n",
    "\n",
    "links.index('https://colorcodedlyrics.com/2013/04/girls-generation-feat-snoop-dogg-the-boys') #cutoff link\n",
    "\n",
    "links = links[0:270]"
   ]
  },
  {
   "cell_type": "markdown",
   "metadata": {},
   "source": [
    "### Remove all originally non-OT9 songs and duplicates"
   ]
  },
  {
   "cell_type": "code",
   "execution_count": 241,
   "metadata": {},
   "outputs": [],
   "source": [
    "# list of songs: 7989, talk to me, lost in love, one year later, sailing, cmiyc (kr version), girls (both version)\n",
    "# remove invalid links (str includes 'preview')\n",
    "\n",
    "links = [ x for x in links if \"7989\" not in x and \"talk-to-me\" not in x and \"lost-in-love\" not in x and \"one-year-later\" not in x and \"sailing\" not in x and \"preview\" not in x]"
   ]
  },
  {
   "cell_type": "code",
   "execution_count": 242,
   "metadata": {},
   "outputs": [],
   "source": [
    "links.remove(\"https://colorcodedlyrics.com/2015/04/girls-generation-sonyeosidae-girls\")\n",
    "links.remove(\"https://colorcodedlyrics.com/2015/08/girls-generation-girls-japanese-ver\")\n",
    "links.remove(\"https://colorcodedlyrics.com/2015/04/girls-generation-sonyeosidae-catch-me-if-you-can\")"
   ]
  },
  {
   "cell_type": "code",
   "execution_count": 243,
   "metadata": {},
   "outputs": [
    {
     "name": "stdout",
     "output_type": "stream",
     "text": [
      "51\n",
      "72\n"
     ]
    }
   ],
   "source": [
    "# list of albums: party, lion heart, holiday night\n",
    "\n",
    "print(links.index('https://colorcodedlyrics.com/2015/08/girls-generation-sonyeosidae-lion-heart'))\n",
    "print(links.index('https://colorcodedlyrics.com/2017/08/girls-generation-sonyeosidae-light-sky'))"
   ]
  },
  {
   "cell_type": "code",
   "execution_count": 244,
   "metadata": {
    "scrolled": true
   },
   "outputs": [],
   "source": [
    "del links[51:73]"
   ]
  },
  {
   "cell_type": "code",
   "execution_count": 245,
   "metadata": {
    "scrolled": true
   },
   "outputs": [
    {
     "name": "stdout",
     "output_type": "stream",
     "text": [
      "108\n"
     ]
    }
   ],
   "source": [
    "print(links.index('https://colorcodedlyrics.com/2015/07/girls-generation-sonyeosidae-party'))"
   ]
  },
  {
   "cell_type": "code",
   "execution_count": 246,
   "metadata": {},
   "outputs": [],
   "source": [
    "del links[108:110]"
   ]
  },
  {
   "cell_type": "code",
   "execution_count": 247,
   "metadata": {},
   "outputs": [
    {
     "name": "stdout",
     "output_type": "stream",
     "text": [
      "234\n"
     ]
    }
   ],
   "source": [
    "print(len(links))"
   ]
  },
  {
   "cell_type": "code",
   "execution_count": 248,
   "metadata": {
    "scrolled": false
   },
   "outputs": [],
   "source": [
    "#remove duplicates\n",
    "\n",
    "clean_links = []\n",
    "\n",
    "for link in links:\n",
    "    if link not in clean_links:\n",
    "        clean_links.append(link)"
   ]
  },
  {
   "cell_type": "code",
   "execution_count": 249,
   "metadata": {
    "scrolled": true
   },
   "outputs": [
    {
     "name": "stdout",
     "output_type": "stream",
     "text": [
      "165\n"
     ]
    }
   ],
   "source": [
    "print(len(clean_links))"
   ]
  },
  {
   "cell_type": "markdown",
   "metadata": {},
   "source": [
    "### Download source code for all links"
   ]
  },
  {
   "cell_type": "code",
   "execution_count": 250,
   "metadata": {},
   "outputs": [],
   "source": [
    "for link in clean_links:\n",
    "    response = requests.get(link)\n",
    "    \n",
    "    if link[-1] == '/':\n",
    "        name = link.split('/')[-2] + '.txt'\n",
    "    else:\n",
    "        name = link.split('/')[-1] + '.txt'\n",
    "    \n",
    "    with open(os.path.join('lyrics', name), mode = 'wb') as file:\n",
    "        file.write(response.content)"
   ]
  }
 ],
 "metadata": {
  "kernelspec": {
   "display_name": "Python 3",
   "language": "python",
   "name": "python3"
  },
  "language_info": {
   "codemirror_mode": {
    "name": "ipython",
    "version": 3
   },
   "file_extension": ".py",
   "mimetype": "text/x-python",
   "name": "python",
   "nbconvert_exporter": "python",
   "pygments_lexer": "ipython3",
   "version": "3.8.5"
  }
 },
 "nbformat": 4,
 "nbformat_minor": 4
}
