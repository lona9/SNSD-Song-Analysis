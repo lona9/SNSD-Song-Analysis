{
 "cells": [
  {
   "cell_type": "markdown",
   "metadata": {},
   "source": [
    "# SNSD Song Analysis\n",
    "\n",
    "## Objective\n",
    "Analyse song data of korean girl group SNSD from 2007 to 2014 (OT9 period + OT8 song versions of the same period), and find patterns in screentime and lyric distribution in songs and their respective music videos (if any).\n",
    "\n",
    "## How to get it organized\n",
    "\n",
    "### Screentime dataframe\n",
    "The screentime dataframe will be manually gathered from video files data. Each video will have all of its frame extracted and counted for member presences, and then converted to time using the FPS of each video (in process). Final data will contain summaries for solo, centre, side and insignificant times in story and dance categories for each member.\n",
    "\n",
    "### Lyrics dataframe\n",
    "The lyrics dataframe will be obtained using a full lyrics index with color coding for each member. Files will be obtained programatically from colorcodedlyrics.com and then cleaned to get each line with its corresponding singing member. Final data will contain summaries for total time, number of individual parts, number of words for each member."
   ]
  },
  {
   "cell_type": "markdown",
   "metadata": {},
   "source": [
    "## Building the lyrics dataframe"
   ]
  },
  {
   "cell_type": "code",
   "execution_count": 1,
   "metadata": {},
   "outputs": [],
   "source": [
    "import requests\n",
    "import os\n",
    "from bs4 import BeautifulSoup"
   ]
  },
  {
   "cell_type": "markdown",
   "metadata": {},
   "source": [
    "### Get links for all song lyrics"
   ]
  },
  {
   "cell_type": "code",
   "execution_count": 3,
   "metadata": {},
   "outputs": [],
   "source": [
    "# making the soup with the lyrics index\n",
    "\n",
    "url = 'https://colorcodedlyrics.com/2012/02/snsd_lyrics_index'\n",
    "response = requests.get(url)\n",
    "\n",
    "name = url.split('/')[-1] + '.txt'\n",
    "with open(name, mode = 'wb') as file:\n",
    "    file.write(response.content)"
   ]
  },
  {
   "cell_type": "code",
   "execution_count": 4,
   "metadata": {},
   "outputs": [],
   "source": [
    "# getting the links for all lyric pages\n",
    "\n",
    "with open(name, encoding='utf8') as file:\n",
    "    soup = BeautifulSoup(file, features='html5lib')\n",
    "    \n",
    "    lyrics_index = soup.find('table', attrs='indexlyrics')\n",
    "    \n",
    "    links = []\n",
    "    for link in lyrics_index.find_all('a', href=True):\n",
    "        links.append(link['href'])"
   ]
  },
  {
   "cell_type": "markdown",
   "metadata": {},
   "source": [
    "### Cleaning the list"
   ]
  },
  {
   "cell_type": "code",
   "execution_count": 4,
   "metadata": {},
   "outputs": [],
   "source": [
    "# remove all links after The Boys, but keep HaHaHa, Visual Dreams and Chocolate Love\n",
    "\n",
    "to_keep = ['https://colorcodedlyrics.com/2013/02/girls-generation-sonyeosidae-hahaha-samsung-cf', \n",
    "           'https://colorcodedlyrics.com/2011/02/08/snsd-visual-dream-cc-lyrics', \n",
    "           'https://colorcodedlyrics.com/2010/04/28/snsd-chocolate-love-color-coded-lyrics/']\n",
    "\n",
    "links.index('https://colorcodedlyrics.com/2013/04/girls-generation-feat-snoop-dogg-the-boys') #cutoff link\n",
    "\n",
    "links = links[0:270]"
   ]
  },
  {
   "cell_type": "markdown",
   "metadata": {},
   "source": [
    "### Remove all originally non-OT9 songs and duplicates"
   ]
  },
  {
   "cell_type": "code",
   "execution_count": 5,
   "metadata": {},
   "outputs": [],
   "source": [
    "# list of songs: 7989, talk to me, lost in love, one year later, sailing, cmiyc (kr version), girls (both version)\n",
    "# remove invalid links (str includes 'preview')\n",
    "\n",
    "links = [ x for x in links if \"7989\" not in x and \"talk-to-me\" not in x and \"lost-in-love\" not in x and \"one-year-later\" not in x and \"sailing\" not in x and \"preview\" not in x]"
   ]
  },
  {
   "cell_type": "code",
   "execution_count": 6,
   "metadata": {},
   "outputs": [],
   "source": [
    "links.remove(\"https://colorcodedlyrics.com/2015/04/girls-generation-sonyeosidae-girls\")\n",
    "links.remove(\"https://colorcodedlyrics.com/2015/08/girls-generation-girls-japanese-ver\")\n",
    "links.remove(\"https://colorcodedlyrics.com/2015/04/girls-generation-sonyeosidae-catch-me-if-you-can\")"
   ]
  },
  {
   "cell_type": "code",
   "execution_count": 7,
   "metadata": {},
   "outputs": [
    {
     "name": "stdout",
     "output_type": "stream",
     "text": [
      "51\n",
      "72\n"
     ]
    }
   ],
   "source": [
    "# list of albums: party, lion heart, holiday night\n",
    "\n",
    "print(links.index('https://colorcodedlyrics.com/2015/08/girls-generation-sonyeosidae-lion-heart'))\n",
    "print(links.index('https://colorcodedlyrics.com/2017/08/girls-generation-sonyeosidae-light-sky'))"
   ]
  },
  {
   "cell_type": "code",
   "execution_count": 8,
   "metadata": {
    "scrolled": true
   },
   "outputs": [],
   "source": [
    "del links[51:73]"
   ]
  },
  {
   "cell_type": "code",
   "execution_count": 9,
   "metadata": {
    "scrolled": true
   },
   "outputs": [
    {
     "name": "stdout",
     "output_type": "stream",
     "text": [
      "108\n"
     ]
    }
   ],
   "source": [
    "print(links.index('https://colorcodedlyrics.com/2015/07/girls-generation-sonyeosidae-party'))"
   ]
  },
  {
   "cell_type": "code",
   "execution_count": 10,
   "metadata": {},
   "outputs": [],
   "source": [
    "del links[108:110]"
   ]
  },
  {
   "cell_type": "code",
   "execution_count": 11,
   "metadata": {},
   "outputs": [
    {
     "name": "stdout",
     "output_type": "stream",
     "text": [
      "234\n"
     ]
    }
   ],
   "source": [
    "print(len(links))"
   ]
  },
  {
   "cell_type": "code",
   "execution_count": 12,
   "metadata": {
    "scrolled": false
   },
   "outputs": [],
   "source": [
    "#remove duplicates\n",
    "\n",
    "clean_links = []\n",
    "\n",
    "for link in links:\n",
    "    if link not in clean_links:\n",
    "        clean_links.append(link)"
   ]
  },
  {
   "cell_type": "code",
   "execution_count": 13,
   "metadata": {
    "scrolled": true
   },
   "outputs": [
    {
     "name": "stdout",
     "output_type": "stream",
     "text": [
      "165\n"
     ]
    }
   ],
   "source": [
    "print(len(clean_links))"
   ]
  },
  {
   "cell_type": "markdown",
   "metadata": {},
   "source": [
    "### Download source code for all links"
   ]
  },
  {
   "cell_type": "code",
   "execution_count": null,
   "metadata": {},
   "outputs": [],
   "source": [
    "for link in clean_links:\n",
    "    response = requests.get(link)\n",
    "    \n",
    "    if link[-1] == '/':\n",
    "        name = link.split('/')[-2] + '.txt'\n",
    "    else:\n",
    "        name = link.split('/')[-1] + '.txt'\n",
    "    \n",
    "    with open(os.path.join('lyrics', name), mode = 'wb') as file:\n",
    "        file.write(response.content)"
   ]
  },
  {
   "cell_type": "markdown",
   "metadata": {},
   "source": [
    "### Scraping lyrics and singer from song files"
   ]
  },
  {
   "cell_type": "code",
   "execution_count": 78,
   "metadata": {
    "scrolled": true
   },
   "outputs": [
    {
     "name": "stdout",
     "output_type": "stream",
     "text": [
      "<_io.TextIOWrapper name='lyrics\\\\girls-generation-all-my-love-is-for-you.txt' mode='r' encoding='utf8'>\n",
      "[None, None, None, 'Jessica', 'Jessica', 'Jessica', 'Seohyun', 'Seohyun', 'Seohyun', 'Taeyeon', 'Hyoyeon', 'Tiffany', None, None, None, 'Jessica', 'Jessica', None, None, None, None, None, 'Yuri', 'Tiffany', 'Tiffany', 'Tiffany', 'Sunny', 'Sunny', 'Sunny', 'Seohyun', 'Sooyoung', 'Taeyeon', None, None, None, 'Jessica', 'Jessica', 'Jessica', None, None, 'Tiffany', None, 'Tiffany', None, 'Tiffany', 'Yoona', 'Jessica', 'Jessica', 'Tiffany', None, 'Tiffany', 'Taeyeon', 'Jessica', 'Jessica', None, 'Taeyeon', None, 'Taeyeon', None, 'Taeyeon', None, 'Yuri', None, 'Taeyeon', None, None, 'Sunny', 'Taeyeon', None, 'Taeyeon', None, 'Taeyeon', None, 'Sooyoung']\n",
      "<_io.TextIOWrapper name='lyrics\\\\girls-generation-animal.txt' mode='r' encoding='utf8'>\n",
      "['Seohyun', None, 'Yoona', None, 'Taeyeon', 'Jessica', 'Sunny', 'Tiffany', None, None, None, None, 'Yuri', None, 'Sooyoung', None, 'Jessica', 'Hyoyeon', None, None, None, None, None, None, None, None, 'Jessica', 'Sunny', 'Seohyun', 'Jessica', 'Sunny', 'Jessica', None, None, 'Tiffany', 'Taeyeon', None, 'Tiffany', 'Tiffany', None, 'Taeyeon', None, 'Taeyeon', None, 'Tiffany', None, None]\n",
      "<_io.TextIOWrapper name='lyrics\\\\girls-generation-bad-girl-cataracs-remix-feat-dev.txt' mode='r' encoding='utf8'>\n",
      "['Seohyun', None, None, None, None, None, None, None, None, 'Jessica', 'Seohyun', None, 'Sunny', None, None, None, 'Seohyun', None, None, 'Seohyun', None, None, None, None, None, 'Hyoyeon', None, None, None, None, None, None, 'Hyoyeon', None, None, None, 'Hyoyeon', None, None, None, 'Hyoyeon', None, None, None, None, None, None, None, None, None, 'Jessica', 'Seohyun', None, 'Sunny', None, None, None, 'Seohyun', None, None, 'Seohyun', None, None, None, None, None, 'Hyoyeon', None, None, None, None, None, None, 'Hyoyeon', None, None, None, 'Hyoyeon', None, None, None, 'Hyoyeon', None, None, None, None, None, None, None, None, None, None, None, None, 'Hyoyeon', None, None, None, 'Hyoyeon', None]\n",
      "<_io.TextIOWrapper name='lyrics\\\\girls-generation-bad-girl-ot8-ver.txt' mode='r' encoding='utf8'>\n",
      "[None, None, None, None, None, None, None, None, 'Seohyun', None, None, None, None, None, None, None, None, None, 'Tiffany', None, 'Sunny', None, None, None, None, 'Seohyun', None, None, None, None, None, None, None, 'Hyoyeon', 'Tiffany', None, None, None, None, None, None, None, 'Sunny', None, 'Sunny', None, 'Sunny', None, None, None, 'Tiffany', None, 'Sunny', None, None, None, None, 'Seohyun', None, None, None, 'Yoona', None, None, None, 'Sunny', 'Tiffany', None, None, 'Sunny', None, None, 'Hyoyeon', None, None, 'Sunny', None, 'Sunny', None, None, None, None, 'Seohyun', None, None, None, None, 'Sunny', None, None, None, None, None, None, None, None, None, None, None, None, None, None, 'Sunny', 'Tiffany', None, None, 'Sunny', None, 'Sunny', None, None, 'Seohyun', None]\n",
      "<_io.TextIOWrapper name='lyrics\\\\girls-generation-beep-beep.txt' mode='r' encoding='utf8'>\n",
      "['Tiffany', None, None, 'Sunny', 'Hyoyeon', 'Sunny', 'Hyoyeon', 'Sooyoung', None, None, 'Seohyun', None, None, 'Taeyeon', None, 'Tiffany', None, None, 'Yoona', None, 'Sooyoung', None, 'Tiffany', None, 'Jessica', 'Taeyeon', 'Yuri', 'Taeyeon', 'Yuri', 'Sunny', None, None, 'Jessica', None, None, 'Tiffany', None, 'Taeyeon', 'Seohyun', None, None, 'Taeyeon', None, 'Jessica', 'Seohyun', None, 'Seohyun', 'Yoona', 'Taeyeon', None, 'Taeyeon', 'Sooyoung', 'Taeyeon', None, 'Seohyun', None, 'Sunny', 'Tiffany', 'Sunny', 'Tiffany', 'Sunny', 'Seohyun', None, 'Jessica', None, 'Taeyeon', None, 'Taeyeon', 'Tiffany', None, 'Taeyeon', None, 'Taeyeon', 'Jessica', None]\n",
      "<_io.TextIOWrapper name='lyrics\\\\girls-generation-blue-jeans-ot8-ver.txt' mode='r' encoding='utf8'>\n",
      "['Yuri', 'Yuri', 'Yuri', 'Seohyun', 'Yuri', 'Taeyeon', 'Taeyeon', 'Taeyeon', 'Tiffany', 'Tiffany', 'Tiffany', 'Sunny', 'Sunny', 'Hyoyeon', None, 'Sooyoung', 'Sooyoung', 'Yuri', None, None, None, None, 'Yoona', 'Seohyun', 'Yoona', 'Seohyun', None, None, 'Tiffany', 'Tiffany', 'Tiffany', 'Tiffany', 'Seohyun', 'Yuri', 'Taeyeon', 'Sooyoung', 'Yoona', 'Sunny', 'Tiffany', None, None, None, None, 'Sunny', 'Taeyeon', 'Sunny', 'Taeyeon', None, None, 'Yuri', 'Yuri', 'Sunny', 'Hyoyeon', 'Seohyun', 'Taeyeon', None, None, None, None, None, None, 'Yuri', 'Sooyoung', 'Yuri', 'Sooyoung', None, 'Tiffany', 'Tiffany', 'Yoona', 'Yoona', 'Yoona', None]\n",
      "<_io.TextIOWrapper name='lyrics\\\\girls-generation-blue-jeans.txt' mode='r' encoding='utf8'>\n",
      "['Jessica', 'Jessica', 'Jessica', 'Seohyun', 'Jessica', 'Taeyeon', 'Taeyeon', 'Taeyeon', 'Tiffany', 'Tiffany', 'Tiffany', 'Sunny', 'Sunny', 'Hyoyeon', None, 'Sooyoung', 'Sooyoung', 'Yuri', None, None, None, None, 'Yoona', 'Seohyun', 'Yoona', 'Seohyun', None, None, 'Jessica', 'Jessica', 'Jessica', 'Jessica', 'Seohyun', 'Yuri', 'Taeyeon', 'Sooyoung', 'Yoona', 'Sunny', 'Tiffany', None, None, None, None, 'Sunny', 'Taeyeon', 'Sunny', 'Taeyeon', None, None, 'Yuri', 'Yuri', 'Sunny', 'Hyoyeon', 'Seohyun', 'Taeyeon', None, None, None, None, None, None, 'Jessica', 'Sooyoung', 'Jessica', 'Sooyoung', None, 'Tiffany', 'Tiffany', 'Yoona', 'Yoona', 'Yoona', None]\n",
      "<_io.TextIOWrapper name='lyrics\\\\girls-generation-boomerang-jap-ver.txt' mode='r' encoding='utf8'>\n",
      "['Taeyeon', None, 'Yuri', None, 'Sunny', None, None, 'Sooyoung', None, 'Sooyoung', None, 'Taeyeon', None, 'Taeyeon', 'Tiffany', None, 'Jessica', None, 'Seohyun', None, None, 'Yoona', None, 'Yoona', None, 'Jessica', None, 'Jessica', 'Jessica', None, None, None, None, None, None, 'Hyoyeon', None, 'Hyoyeon', None, 'Yuri', None, 'Yuri', None, 'Sunny', None, 'Sunny', None, 'Tiffany', None, 'Tiffany', None]\n",
      "<_io.TextIOWrapper name='lyrics\\\\girls-generation-catch-can-japanese-ver-ot9.txt' mode='r' encoding='utf8'>\n",
      "['Yuri', 'Yuri', 'Yuri', 'Hyoyeon', 'Hyoyeon', 'Hyoyeon', 'Yoona', None, 'Sooyoung', None, 'Seohyun', 'Sunny', 'Jessica', 'Tiffany', None, 'Taeyeon', None, 'Yoona', 'Jessica', 'Sunny', 'Yoona', None, None, 'Sooyoung', None, None, 'Yuri', None, 'Hyoyeon', None, 'Sunny', 'Tiffany', 'Taeyeon', 'Jessica', None, 'Seohyun', None, 'Yuri', 'Seohyun', 'Tiffany', 'Taeyeon', None, 'Jessica', None, 'Tiffany', 'Seohyun', 'Jessica', 'Sooyoung', None, 'Tiffany', 'Sunny', None, 'Taeyeon', 'Hyoyeon', 'Sooyoung', 'Taeyeon', None, None, None]\n",
      "<_io.TextIOWrapper name='lyrics\\\\girls-generation-catch-me-if-you-can-japanese-version.txt' mode='r' encoding='utf8'>\n",
      "['Yuri', 'Yuri', 'Yuri', 'Hyoyeon', 'Hyoyeon', 'Hyoyeon', 'Yoona', None, 'Sooyoung', None, 'Seohyun', 'Sunny', 'Yuri', 'Tiffany', None, 'Taeyeon', None, 'Yoona', 'Sooyoung', 'Sunny', 'Yoona', None, None, 'Sooyoung', None, None, 'Yuri', None, 'Hyoyeon', None, 'Sunny', 'Tiffany', 'Taeyeon', 'Yoona', None, 'Seohyun', None, 'Yuri', 'Seohyun', 'Tiffany', 'Taeyeon', None, 'Sooyoung', None, 'Tiffany', 'Seohyun', 'Taeyeon', 'Sooyoung', None, 'Tiffany', 'Sunny', None, 'Taeyeon', 'Hyoyeon', 'Sooyoung', 'Taeyeon', None, None, None]\n",
      "<_io.TextIOWrapper name='lyrics\\\\girls-generation-catwalk-ot8-ver.txt' mode='r' encoding='utf8'>\n",
      "['Tiffany', None, None, None, 'Taeyeon', None, 'Seohyun', None, 'Sooyoung', 'Tiffany', 'Yuri', 'Seohyun', 'Yuri', 'Seohyun', 'Yuri', 'Seohyun', 'Yuri', None, 'Sunny', None, None, 'Sooyoung', None, 'Tiffany', 'Tiffany', 'Taeyeon', 'Hyoyeon', None, 'Taeyeon', None, 'Sunny', None, 'Taeyeon', None, 'Tiffany', 'Yuri', 'Tiffany', None, 'Yoona', None, None, 'Hyoyeon', None, 'Taeyeon', 'Taeyeon', 'Tiffany', 'Seohyun', None, 'Yuri', None, 'Seohyun', None, 'Sooyoung', 'Tiffany', 'Sooyoung', 'Tiffany', 'Sooyoung', 'Yoona', 'Sooyoung', 'Taeyeon', None, 'Sunny', None, None, 'Taeyeon', 'Sooyoung', None, 'Taeyeon', 'Tiffany', 'Tiffany', 'Taeyeon', 'Hyoyeon', None, 'Taeyeon', None, 'Tiffany', 'Yuri', 'Tiffany', 'Yuri', 'Yoona', None, None, None, None]\n",
      "<_io.TextIOWrapper name='lyrics\\\\girls-generation-chain-reaction-ot8-ver.txt' mode='r' encoding='utf8'>\n",
      "['Taeyeon', None, None, 'Taeyeon', 'Taeyeon', 'Sunny', None, 'Tiffany', None, None, 'Sooyoung', None, 'Yoona', None, None, None, None, 'Tiffany', 'Seohyun', None, 'Sunny', None, 'Taeyeon', None, None, None, 'Yuri', None, 'Hyoyeon', None, None, None, None, 'Tiffany', 'Tiffany', 'Sooyoung', 'Sunny', 'Yoona', 'Sunny', 'Taeyeon', 'Yuri', 'Tiffany', 'Seohyun', 'Sunny', 'Sunny', None, None, None, 'Taeyeon', 'Tiffany', 'Taeyeon', 'Tiffany', 'Taeyeon', 'Tiffany', 'Taeyeon', 'Tiffany', 'Taeyeon', 'Tiffany', 'Taeyeon', 'Tiffany', 'Taeyeon', 'Tiffany', None]\n",
      "<_io.TextIOWrapper name='lyrics\\\\girls-generation-chain-reaction.txt' mode='r' encoding='utf8'>\n",
      "['Taeyeon', None, None, 'Taeyeon', 'Taeyeon', 'Jessica', None, 'Tiffany', None, None, 'Sooyoung', None, 'Yoona', None, None, None, None, 'Jessica', 'Seohyun', None, 'Sunny', None, 'Taeyeon', None, None, None, 'Yuri', None, 'Hyoyeon', None, None, None, None, 'Tiffany', 'Jessica', 'Sooyoung', 'Sunny', 'Yoona', 'Sunny', 'Taeyeon', 'Yuri', 'Tiffany', 'Seohyun', 'Jessica', 'Jessica', None, None, None, 'Taeyeon', 'Tiffany', 'Taeyeon', 'Tiffany', 'Taeyeon', 'Tiffany', 'Taeyeon', 'Tiffany', 'Taeyeon', 'Tiffany', 'Taeyeon', 'Tiffany', 'Taeyeon', 'Tiffany', None]\n",
      "<_io.TextIOWrapper name='lyrics\\\\girls-generation-divine-ot8-ver.txt' mode='r' encoding='utf8'>\n",
      "['Taeyeon', 'Sunny', 'Taeyeon', None, None, 'Tiffany', None, None, 'Yoona', 'Hyoyeon', 'Taeyeon', 'Taeyeon', 'Sunny', 'Sunny', 'Tiffany', 'Taeyeon', 'Yoona', 'Seohyun', None, None, 'Tiffany', 'Taeyeon', None, None, 'Sooyoung', 'Yuri', 'Sunny', 'Hyoyeon', 'Sunny', 'Sunny', 'Taeyeon', 'Sunny', 'Sooyoung', 'Seohyun', 'Taeyeon', 'Tiffany', 'Tiffany', 'Yoona', None, 'Tiffany', None, None, None, 'Tiffany', 'Taeyeon', None, 'Tiffany', 'Yoona', None]\n"
     ]
    },
    {
     "name": "stdout",
     "output_type": "stream",
     "text": [
      "<_io.TextIOWrapper name='lyrics\\\\girls-generation-divine.txt' mode='r' encoding='utf8'>\n",
      "['Taeyeon', 'Sunny', 'Jessica', None, None, 'Tiffany', None, None, 'Yoona', 'Hyoyeon', 'Taeyeon', 'Taeyeon', 'Sunny', 'Sunny', 'Tiffany', 'Jessica', 'Yoona', 'Seohyun', None, None, 'Tiffany', 'Taeyeon', None, None, 'Sooyoung', 'Yuri', 'Sunny', 'Hyoyeon', 'Jessica', 'Jessica', 'Taeyeon', 'Sunny', 'Sooyoung', 'Seohyun', 'Taeyeon', 'Tiffany', 'Jessica', 'Tiffany', 'Jessica', None, None, None, 'Tiffany', 'Taeyeon', None, 'Tiffany', 'Jessica', None]\n",
      "<_io.TextIOWrapper name='lyrics\\\\girls-generation-do-the-catwalk.txt' mode='r' encoding='utf8'>\n",
      "['Jessica', None, None, None, 'Taeyeon', None, 'Seohyun', None, 'Sooyoung', 'Tiffany', 'Yuri', 'Seohyun', 'Yuri', 'Seohyun', 'Yuri', 'Seohyun', 'Yuri', None, 'Sunny', None, None, 'Sooyoung', None, 'Tiffany', 'Tiffany', 'Taeyeon', 'Hyoyeon', None, 'Jessica', None, 'Sunny', None, 'Taeyeon', None, 'Tiffany', 'Yuri', 'Tiffany', None, 'Yoona', None, None, 'Hyoyeon', None, 'Taeyeon', 'Taeyeon', 'Tiffany', 'Jessica', None, 'Yuri', None, 'Seohyun', None, 'Sooyoung', 'Tiffany', 'Sooyoung', 'Tiffany', 'Sooyoung', 'Jessica', 'Sooyoung', 'Taeyeon', None, 'Sunny', None, None, 'Taeyeon', 'Sooyoung', None, 'Taeyeon', 'Tiffany', 'Tiffany', 'Taeyeon', 'Hyoyeon', None, 'Jessica', None, 'Tiffany', 'Yuri', 'Tiffany', 'Yuri', 'Yoona', None, None, None, None]\n",
      "<_io.TextIOWrapper name='lyrics\\\\girls-generation-everyday-love.txt' mode='r' encoding='utf8'>\n",
      "['Yoona', 'Seohyun', None, None, 'Jessica', None, None, 'Yoona', 'Sunny', 'Sooyoung', 'Tiffany', None, None, 'Taeyeon', None, None, None, 'Seohyun', None, 'Sooyoung', None, 'Yuri', None, 'Yuri', 'Hyoyeon', 'Sunny', 'Hyoyeon', 'Sunny', 'Hyoyeon', 'Yoona', 'Taeyeon', 'Yuri', 'Jessica', 'Seohyun', None, None, 'Tiffany', None, None, None, 'Sunny', None, 'Seohyun', 'Yuri', 'Jessica', 'Sooyoung', None, None, 'Yoona', None, 'Hyoyeon', None, None, None, 'Jessica', None, None, None, 'Taeyeon', None, 'Sooyoung', None]\n",
      "<_io.TextIOWrapper name='lyrics\\\\girls-generation-flower-power-ot8-ver.txt' mode='r' encoding='utf8'>\n",
      "['Seohyun', None, 'Yoona', None, 'Sooyoung', None, 'Tiffany', None, 'Hyoyeon', None, 'Seohyun', None, 'Taeyeon', 'Taeyeon', None, 'Seohyun', None, 'Sunny', None, 'Sooyoung', 'Sunny', 'Sunny', 'Sunny', None, 'Sooyoung', None, 'Yuri', None, 'Sunny', None, 'Yoona', None, 'Taeyeon', None, 'Taeyeon', 'Taeyeon', 'Tiffany', 'Hyoyeon', 'Taeyeon', 'Sooyoung', None, 'Tiffany', None, 'Hyoyeon', None, 'Seohyun', None, 'Taeyeon', 'Taeyeon', 'Taeyeon', 'Taeyeon']\n",
      "<_io.TextIOWrapper name='lyrics\\\\girls-generation-flower-power.txt' mode='r' encoding='utf8'>\n",
      "['Tiffany', None, None, 'Taeyeon', None, 'Taeyeon', 'Taeyeon', None, 'Jessica', None, 'Seohyun', None, 'Yoona', None, None, 'Sooyoung', None, 'Tiffany', None, 'Hyoyeon', None, 'Seohyun', 'Taeyeon', 'Taeyeon', None, 'Seohyun', None, 'Sunny', None, 'Jessica', 'Jessica', 'Jessica', 'Jessica', None, 'Sooyoung', None, None, 'Yuri', None, 'Sunny', None, 'Yoona', None, 'Jessica', 'Taeyeon', 'Taeyeon', 'Tiffany', 'Hyoyeon', 'Taeyeon', None, 'Sooyoung', None, 'Tiffany', None, 'Hyoyeon', None, 'Seohyun', 'Taeyeon', 'Taeyeon', 'Taeyeon', 'Taeyeon']\n",
      "<_io.TextIOWrapper name='lyrics\\\\girls-generation-flyers-ot8-ver.txt' mode='r' encoding='utf8'>\n",
      "['Sooyoung', 'Tiffany', 'Tiffany', 'Hyoyeon', None, 'Taeyeon', None, 'Sunny', 'Yoona', None, 'Seohyun', 'Yoona', 'Tiffany', None, 'Yuri', 'Yoona', 'Taeyeon', None, None, None, None, None, None, None, 'Tiffany', None, None, None, None, None, None, 'Tiffany', None, None, None, 'Sunny', None, 'Hyoyeon', 'Sooyoung', 'Seohyun', None, 'Yoona', 'Seohyun', 'Taeyeon', None, 'Hyoyeon', 'Seohyun', 'Seohyun', None, None, None, None, None, None, None, 'Taeyeon', None, None, None, None, None, None, 'Taeyeon', None, 'Seohyun', 'Tiffany', None, None, None, None, None, None, 'Seohyun', 'Taeyeon', None, None, None, None, None, 'Seohyun', 'Yuri', None, None, None, 'Taeyeon', None, None, 'Seohyun', None]\n",
      "<_io.TextIOWrapper name='lyrics\\\\girls-generation-flyers.txt' mode='r' encoding='utf8'>\n",
      "['Sooyoung', 'Tiffany', 'Tiffany', 'Hyoyeon', None, 'Taeyeon', None, 'Sunny', 'Jessica', None, 'Seohyun', 'Jessica', 'Tiffany', None, 'Yuri', 'Jessica', 'Taeyeon', None, None, None, None, None, None, None, 'Tiffany', None, None, None, None, None, None, 'Tiffany', None, None, None, 'Sunny', None, 'Jessica', 'Sooyoung', 'Seohyun', None, 'Yoona', 'Seohyun', 'Taeyeon', None, 'Hyoyeon', 'Seohyun', 'Jessica', None, None, None, None, None, None, None, 'Taeyeon', None, None, None, None, None, None, 'Taeyeon', None, 'Jessica', 'Tiffany', None, None, None, None, None, None, 'Seohyun', 'Taeyeon', None, None, None, None, None, 'Seohyun', 'Yuri', None, None, None, 'Taeyeon', None, None, 'Seohyun', None]\n",
      "<_io.TextIOWrapper name='lyrics\\\\girls-generation-galaxy-supernova-ot8-ver.txt' mode='r' encoding='utf8'>\n",
      "['Yoona', 'Taeyeon', 'Sunny', 'Sooyoung', 'Sunny', 'Yuri', 'Tiffany', None, 'Seohyun', 'Tiffany', 'Hyoyeon', 'Sooyoung', None, None, None, 'Tiffany', None, None, None, 'Yoona', 'Taeyeon', 'Hyoyeon', 'Seohyun', None, None, None, 'Yoona', 'Sooyoung', 'Yoona', 'Seohyun', 'Seohyun', 'Yuri', 'Yuri', 'Tiffany', 'Sunny', 'Tiffany', 'Sunny', 'Tiffany', 'Sunny', 'Tiffany', 'Sunny', 'Sooyoung', 'Sunny', 'Yoona', 'Taeyeon', 'Tiffany', None, None, None, 'Seohyun', None, 'Tiffany', None, 'Yoona', 'Taeyeon', 'Hyoyeon', 'Seohyun', None, None, None, 'Yuri', 'Sooyoung', 'Yoona', 'Sunny', None, 'Taeyeon', None, 'Taeyeon', None, None, 'Tiffany', 'Taeyeon', None, None, 'Tiffany', 'Taeyeon', 'Hyoyeon', 'Seohyun', None, 'Tiffany', 'Tiffany', 'Tiffany']\n",
      "<_io.TextIOWrapper name='lyrics\\\\girls-generation-galaxy-supernova.txt' mode='r' encoding='utf8'>\n",
      "['Yoona', 'Taeyeon', 'Sunny', 'Sooyoung', 'Sunny', 'Yuri', 'Jessica', None, 'Seohyun', 'Tiffany', 'Hyoyeon', 'Sooyoung', None, None, None, 'Tiffany', None, None, None, 'Yoona', 'Taeyeon', 'Hyoyeon', 'Seohyun', None, None, None, 'Jessica', 'Sooyoung', 'Jessica', 'Seohyun', 'Seohyun', 'Yuri', 'Yuri', 'Tiffany', 'Sunny', 'Tiffany', 'Sunny', 'Tiffany', 'Sunny', 'Tiffany', 'Sunny', 'Sooyoung', 'Sunny', 'Yoona', 'Taeyeon', 'Jessica', None, None, None, 'Seohyun', None, 'Tiffany', None, 'Yoona', 'Taeyeon', 'Hyoyeon', 'Seohyun', None, None, None, 'Yuri', 'Sooyoung', 'Jessica', 'Jessica', None, None, 'Taeyeon', None, 'Taeyeon', None, None, 'Tiffany', 'Taeyeon', None, None, 'Tiffany', 'Taeyeon', 'Hyoyeon', 'Seohyun', None, 'Tiffany', 'Tiffany', 'Tiffany']\n",
      "<_io.TextIOWrapper name='lyrics\\\\girls-generation-genie-japanese-ver.txt' mode='r' encoding='utf8'>\n",
      "[None, None, 'Jessica', None, 'Seohyun', 'Seohyun', 'Seohyun', None, None, None, None, None, None, None, None, 'Jessica', None, None, None, 'Jessica', None, None, None, 'Sunny', None, 'Jessica', 'Jessica', 'Hyoyeon', 'Jessica', None, None, 'Jessica', None, None, None, None, None, None, 'Seohyun', None, None, 'Jessica', None, 'Hyoyeon', None, 'Jessica', None, None, None, None, 'Jessica', 'Jessica', None, None, None, None, None, None, None, None, None, None, None, None, None, 'Jessica', None, 'Jessica', None, 'Jessica', None, None, None, 'Jessica', None, 'Jessica', None, None]\n",
      "<_io.TextIOWrapper name='lyrics\\\\girls-generation-girls-amp-peace.txt' mode='r' encoding='utf8'>\n",
      "['Taeyeon', None, 'Sooyoung', None, 'Jessica', None, 'Tiffany', None, None, None, None, None, None, None, 'Yoona', None, 'Sunny', None, 'Yuri', None, 'Seohyun', 'Yoona', None, 'Jessica', 'Hyoyeon', 'Sunny', 'Sooyoung', 'Tiffany', 'Yoona', 'Seohyun', 'Yuri', 'Sunny', None, None, None, None, None, 'Sunny', None, 'Seohyun', None, 'Hyoyeon', None, 'Taeyeon', 'Tiffany', 'Jessica', 'Seohyun', 'Taeyeon', 'Sunny', 'Sooyoung', None, 'Seohyun', None, None, None, 'Taeyeon', 'Jessica', 'Sunny', 'Jessica', None, 'Seohyun', 'Jessica', None, None, None, 'Taeyeon', None]\n",
      "<_io.TextIOWrapper name='lyrics\\\\girls-generation-girls-generation-ii-smash.txt' mode='r' encoding='utf8'>\n",
      "[None, None, 'Sooyoung', None, 'Yuri', 'Yuri', 'Yuri', 'Tiffany', 'Tiffany', 'Yuri', 'Yuri', 'Tiffany', 'Tiffany', None, 'Taeyeon', None, 'Taeyeon', 'Yuri', 'Sunny', 'Taeyeon', None, 'Taeyeon', None, 'Taeyeon', None, 'Taeyeon', 'Sunny', 'Taeyeon', 'Taeyeon', 'Taeyeon', 'Jessica', 'Jessica', None, 'Seohyun', 'Seohyun', None, 'Tiffany', 'Tiffany', None, 'Tiffany', 'Sooyoung', None, None, None, 'Jessica', None, 'Tiffany', 'Jessica', None, 'Jessica', 'Tiffany', 'Tiffany', None, None, None, None, 'Jessica', 'Seohyun', 'Jessica', None, None, 'Taeyeon', None]\n",
      "<_io.TextIOWrapper name='lyrics\\\\girls-generation-gossip-girl.txt' mode='r' encoding='utf8'>\n",
      "['Hyoyeon', 'Hyoyeon', None, None, 'Sunny', None, None, 'Taeyeon', None, None, 'Seohyun', None, None, 'Jessica', 'Sooyoung', None, 'Yoona', 'Hyoyeon', 'Yuri', None, None, 'Tiffany', None, None, None, 'Sunny', 'Taeyeon', 'Taeyeon', 'Taeyeon', 'Taeyeon', None, None, 'Sooyoung', None, None, 'Seohyun', 'Sunny', None, 'Seohyun', 'Yuri', 'Yoona', None, None, 'Jessica', None, None, None, 'Taeyeon', 'Taeyeon', 'Taeyeon', None, 'Seohyun', None, 'Tiffany', None, None, 'Sooyoung', None, 'Tiffany', None, None, 'Tiffany', None, None, 'Taeyeon', 'Taeyeon', 'Taeyeon', 'Taeyeon']\n",
      "<_io.TextIOWrapper name='lyrics\\\\girls-generation-great-escape-ot8-ver.txt' mode='r' encoding='utf8'>\n"
     ]
    },
    {
     "ename": "IndexError",
     "evalue": "list index out of range",
     "output_type": "error",
     "traceback": [
      "\u001b[1;31m---------------------------------------------------------------------------\u001b[0m",
      "\u001b[1;31mIndexError\u001b[0m                                Traceback (most recent call last)",
      "\u001b[1;32m<ipython-input-78-5235fdf35e1d>\u001b[0m in \u001b[0;36m<module>\u001b[1;34m\u001b[0m\n\u001b[0;32m     62\u001b[0m \u001b[1;33m\u001b[0m\u001b[0m\n\u001b[0;32m     63\u001b[0m         \u001b[1;31m## clean start of lines\u001b[0m\u001b[1;33m\u001b[0m\u001b[1;33m\u001b[0m\u001b[1;33m\u001b[0m\u001b[0m\n\u001b[1;32m---> 64\u001b[1;33m         \u001b[0mspace\u001b[0m \u001b[1;33m=\u001b[0m \u001b[0mcolor_lyrics\u001b[0m\u001b[1;33m[\u001b[0m\u001b[1;33m-\u001b[0m\u001b[1;36m22\u001b[0m\u001b[1;33m]\u001b[0m\u001b[1;33m[\u001b[0m\u001b[1;36m0\u001b[0m\u001b[1;33m]\u001b[0m\u001b[1;33m\u001b[0m\u001b[1;33m\u001b[0m\u001b[0m\n\u001b[0m\u001b[0;32m     65\u001b[0m \u001b[1;33m\u001b[0m\u001b[0m\n\u001b[0;32m     66\u001b[0m         \u001b[1;32mfor\u001b[0m \u001b[0mi\u001b[0m \u001b[1;32min\u001b[0m \u001b[0mcolor_lyrics\u001b[0m\u001b[1;33m:\u001b[0m\u001b[1;33m\u001b[0m\u001b[1;33m\u001b[0m\u001b[0m\n",
      "\u001b[1;31mIndexError\u001b[0m: list index out of range"
     ]
    }
   ],
   "source": [
    "for file in os.listdir('lyrics'):\n",
    "    with open(os.path.join('lyrics', file), encoding = 'utf8') as file:\n",
    "        print(file)\n",
    "        soup = BeautifulSoup(file, features='html5lib')\n",
    "        \n",
    "        ## song name\n",
    "        name = soup.find('h2', style='text-align: center').contents\n",
    "        \n",
    "        ## release date \n",
    "        date = soup.find('p', style=\"text-align: center\").contents[-1]\n",
    "        \n",
    "        ## member colors      \n",
    "        colors = ['color: #ff6600', 'color: #3366ff', 'color: #800080', 'color: #ff00ff', 'color: #008000', 'color: #ff0000', \n",
    "                  'color: #00ccff', 'color: #ffff00', 'color: #008080']\n",
    "        \n",
    "        members = ['Taeyeon', 'Jessica', 'Sunny', 'Tiffany', 'Hyoyeon', 'Yuri', 'Sooyoung', 'Yoona', 'Seohyun']\n",
    "        \n",
    "        def check_member(x):\n",
    "            for color in colors:\n",
    "                if color in x:\n",
    "                    position = colors.index(color)\n",
    "                    singer = members[position]\n",
    "                    return singer\n",
    "        \n",
    "        ## lyrics\n",
    "        lyrics = soup.find('table', border='0')\n",
    "        lyrics = str(lyrics)\n",
    "        lyrics = lyrics.split('</td>')[0]\n",
    "        lyrics = lyrics.split('\\n')\n",
    "        \n",
    "        ## correct line breaks\n",
    "        for i in lyrics:\n",
    "            if '</span>' in i and '[' not in i:\n",
    "                position = lyrics.index(i)\n",
    "                lyrics.remove(i)\n",
    "                i = i.split('</span>')\n",
    "                lyrics.insert(position, i)\n",
    "            elif '<td>' in i:\n",
    "                position = lyrics.index(i)\n",
    "                lyrics.remove(i)\n",
    "                i = i.split('<td>')[-1]\n",
    "                lyrics.insert(position, i)\n",
    "                \n",
    "        color_lyrics = []\n",
    "        \n",
    "        ## flatten list\n",
    "        for i in lyrics:\n",
    "            if type(i) is list:\n",
    "                for item in i:\n",
    "                    color_lyrics.append(item)\n",
    "            else:\n",
    "                color_lyrics.append(i)\n",
    "                \n",
    "        ## remove extra lines containing '<br/>'\n",
    "        color_lyrics = [x for x in color_lyrics if x != '<br/>']\n",
    "        \n",
    "        ## replace extra tags\n",
    "        for i in color_lyrics:\n",
    "            if '<p>' in i or '</p>' in i:\n",
    "                i.replace('<p>', '')\n",
    "                i.replace('</p', '')\n",
    "        \n",
    "        ## clean start of lines\n",
    "        space = color_lyrics[-22][0]\n",
    "        \n",
    "        for i in color_lyrics:\n",
    "            if i.startswith(space):\n",
    "                position = color_lyrics.index(i)\n",
    "                color_lyrics.remove(i)\n",
    "                i = i[1:]\n",
    "                color_lyrics.insert(position, i)\n",
    "        \n",
    "        ## printing test for lyrics\n",
    "#         for i in color_lyrics:\n",
    "#             print(i + '\\n')\n",
    "        \n",
    "        ## singing order\n",
    "        singing_order = []\n",
    "        \n",
    "        for line in color_lyrics:\n",
    "            member_line = check_member(line)\n",
    "            singing_order.append(member_line)\n",
    "            \n",
    "            \n",
    "        ## printing test for order\n",
    "        print(singing_order)\n",
    "            \n",
    "        # split adlibs for main lines \n",
    "    "
   ]
  }
 ],
 "metadata": {
  "kernelspec": {
   "display_name": "Python 3",
   "language": "python",
   "name": "python3"
  },
  "language_info": {
   "codemirror_mode": {
    "name": "ipython",
    "version": 3
   },
   "file_extension": ".py",
   "mimetype": "text/x-python",
   "name": "python",
   "nbconvert_exporter": "python",
   "pygments_lexer": "ipython3",
   "version": "3.8.5"
  }
 },
 "nbformat": 4,
 "nbformat_minor": 4
}
